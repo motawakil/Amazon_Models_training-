{
 "cells": [
  {
   "cell_type": "code",
   "execution_count": null,
   "id": "4670d3fd",
   "metadata": {},
   "outputs": [
    {
     "ename": "SyntaxError",
     "evalue": "invalid character '’' (U+2019) (3631762868.py, line 22)",
     "output_type": "error",
     "traceback": [
      "  \u001b[36mCell\u001b[39m\u001b[36m \u001b[39m\u001b[32mIn[1]\u001b[39m\u001b[32m, line 22\u001b[39m\n\u001b[31m    \u001b[39m\u001b[31mGérer l’équilibrage des classes (sur le jeu d’entraînement uniquement !) via des techniques comme SMOTE, undersampling, oversampling, ou class weights\u001b[39m\n           ^\n\u001b[31mSyntaxError\u001b[39m\u001b[31m:\u001b[39m invalid character '’' (U+2019)\n"
     ]
    }
   ],
   "source": [
    "import pandas as pd\n",
    "import os\n",
    "\n",
    "def load_datasets(base_path=\"Datasets\"):\n",
    "    train_path = os.path.join(base_path, \"train_data.json\")\n",
    "    val_path = os.path.join(base_path, \"validation_data.json\")\n",
    "    \n",
    "    print(f\"📥 Chargement des données depuis {train_path} ...\")\n",
    "    train_df = pd.read_json(train_path, lines=True)\n",
    "    print(f\"🔢 Données train : {len(train_df)} lignes chargées\")\n",
    "    \n",
    "    print(f\"📥 Chargement des données depuis {val_path} ...\")\n",
    "    val_df = pd.read_json(val_path, lines=True)\n",
    "    print(f\"🔢 Données validation : {len(val_df)} lignes chargées\")\n",
    "    \n",
    "    return train_df, val_df\n",
    "\n",
    "# Appliquer la tokenization / vectorisation sur ce jeu d’entraînement (fit + transform)\n",
    "\n",
    "# Transformer (transform seulement) les jeux de validation et test avec ce même vectoriseur\n",
    "\n",
    "# Gérer l’équilibrage des classes (sur le jeu d’entraînement uniquement !) via des techniques comme SMOTE, undersampling, oversampling, ou class weights\n",
    "\n",
    "# Entraîner le modèle sur les données vectorisées équilibrées\n",
    "\n",
    "# Évaluer sur validation, puis test\n"
   ]
  }
 ],
 "metadata": {
  "kernelspec": {
   "display_name": "venv",
   "language": "python",
   "name": "python3"
  },
  "language_info": {
   "codemirror_mode": {
    "name": "ipython",
    "version": 3
   },
   "file_extension": ".py",
   "mimetype": "text/x-python",
   "name": "python",
   "nbconvert_exporter": "python",
   "pygments_lexer": "ipython3",
   "version": "3.13.3"
  }
 },
 "nbformat": 4,
 "nbformat_minor": 5
}
